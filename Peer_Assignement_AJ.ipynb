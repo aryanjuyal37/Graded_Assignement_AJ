{
 "cells": [
  {
   "cell_type": "markdown",
   "id": "42e179db-e9d0-4909-999c-aa0381930803",
   "metadata": {},
   "source": [
    "# Title: My Data Science Notebook"
   ]
  },
  {
   "cell_type": "markdown",
   "id": "d7ba5188-e85d-46a1-b058-4b13b2a11b73",
   "metadata": {
    "tags": []
   },
   "source": [
    "# Introduction:\n",
    "### This notebook explores various aspects of data science.\n"
   ]
  },
  {
   "cell_type": "markdown",
   "id": "b6969f72-1a24-49c8-8b71-a0ab13ee9b55",
   "metadata": {
    "jp-MarkdownHeadingCollapsed": true,
    "tags": []
   },
   "source": [
    "## Data Science Languages:\n",
    " - Python\n",
    " - R\n",
    " - Julia\n",
    " - SQL\n"
   ]
  },
  {
   "cell_type": "markdown",
   "id": "369060f6-bbae-466a-87ae-bb91eda0bfb9",
   "metadata": {},
   "source": [
    "## Data Science Libraries:\n",
    "- NumPy\n",
    "- Pandas\n",
    "- Matplotlib\n",
    "- Seaborn\n",
    "- Scikit-learn\n"
   ]
  },
  {
   "cell_type": "markdown",
   "id": "372d0cf7-8295-4e50-b012-2375e38d9d5c",
   "metadata": {},
   "source": [
    "## Table of Data Science tools\n",
    " | Tool          | Description                             |\n",
    " |---------------|-----------------------------------------|\n",
    " | Jupyter       | Interactive computing and data analysis |\n",
    " | TensorFlow    | Machine learning library by Google       |\n",
    " | Tableau       | Data visualization tool                 |\n",
    " | Apache Spark  | Distributed data processing             |\n"
   ]
  },
  {
   "cell_type": "markdown",
   "id": "0a3e92b8-81db-46a5-bba2-7eadb74067f4",
   "metadata": {},
   "source": [
    "## Markdown cell introducing arithmetic expression examples\n",
    "### Arithmetic Expression Examples:\n",
    "### Let's explore some basic arithmetic operations in this section.\n"
   ]
  },
  {
   "cell_type": "code",
   "execution_count": 2,
   "id": "3ba5db8f-7f70-4662-ab66-511a10a56385",
   "metadata": {
    "tags": []
   },
   "outputs": [
    {
     "data": {
      "text/plain": [
       "(15, 8)"
      ]
     },
     "execution_count": 2,
     "metadata": {},
     "output_type": "execute_result"
    }
   ],
   "source": [
    "# Code cell for multiplying and adding numbers\n",
    "a = 5\n",
    "b = 3\n",
    "multiply_result = a * b\n",
    "add_result = a + b\n",
    "multiply_result, add_result"
   ]
  },
  {
   "cell_type": "code",
   "execution_count": 3,
   "id": "cac5134f-0a03-46dc-ab5b-15c0cd87b1a4",
   "metadata": {
    "tags": []
   },
   "outputs": [
    {
     "data": {
      "text/plain": [
       "2.0"
      ]
     },
     "execution_count": 3,
     "metadata": {},
     "output_type": "execute_result"
    }
   ],
   "source": [
    "# Code cell to convert minutes to hours\n",
    "minutes = 120\n",
    "hours = minutes / 60\n",
    "hours\n"
   ]
  },
  {
   "cell_type": "markdown",
   "id": "267f3904-450c-4a5d-aaf3-3d273f708378",
   "metadata": {},
   "source": [
    "## Objectives:\n",
    " 1. Explore data science languages.\n",
    " 2. Learn about key data science libraries.\n",
    " 3. Understand basic arithmetic operations.\n"
   ]
  },
  {
   "cell_type": "markdown",
   "id": "5aa0f78b-4d71-4a66-9ef6-56f2f676167b",
   "metadata": {},
   "source": [
    "#### Author: Aryan Juyal\n"
   ]
  }
 ],
 "metadata": {
  "kernelspec": {
   "display_name": "Python",
   "language": "python",
   "name": "conda-env-python-py"
  },
  "language_info": {
   "codemirror_mode": {
    "name": "ipython",
    "version": 3
   },
   "file_extension": ".py",
   "mimetype": "text/x-python",
   "name": "python",
   "nbconvert_exporter": "python",
   "pygments_lexer": "ipython3",
   "version": "3.7.12"
  }
 },
 "nbformat": 4,
 "nbformat_minor": 5
}
