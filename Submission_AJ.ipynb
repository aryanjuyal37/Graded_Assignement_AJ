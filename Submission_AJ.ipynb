{
 "cells": [
  {
   "cell_type": "markdown",
   "id": "533b633b-e310-4c37-893c-6e827e7c3160",
   "metadata": {},
   "source": [
    "# Data Science Tools and Ecosystems"
   ]
  },
  {
   "cell_type": "markdown",
   "id": "46a5a416-625d-44b5-863a-7a07da12d95c",
   "metadata": {},
   "source": [
    "## Introduction:\n",
    "In this notebook data science tools and ecosystems are summarized"
   ]
  },
  {
   "cell_type": "markdown",
   "id": "3370991c-36cf-45f5-b768-ec9e2b311d76",
   "metadata": {},
   "source": [
    "## Data Science Languages:\n",
    "- Python\n",
    "- R\n",
    "- SQL\n",
    "- Scala\n",
    "- Java\n",
    "- C++\n",
    "- Julia\n",
    "- JavaScript\n",
    "- PHP\n",
    "- Go\n",
    "- Ruby\n",
    "- Visual Basic"
   ]
  },
  {
   "cell_type": "markdown",
   "id": "ba2d32d5-b981-4850-877d-9f56c4e68352",
   "metadata": {},
   "source": [
    "## Data Science Libraries:\n",
    "- Pandas\n",
    "- Numpy\n",
    "- Matplotlib\n",
    "- Seaborn\n",
    "- Scikit-learn\n",
    "- Keras\n",
    "- TensorFlow\n",
    "- PyTorch\n",
    "- Apache Spark\n",
    "- Vegas\n",
    "- Big DL\n",
    "- Ggplot2"
   ]
  },
  {
   "cell_type": "markdown",
   "id": "2a9d41ef-9dd3-4d16-ae34-45692eec2415",
   "metadata": {},
   "source": [
    "## Data Science Tools\n",
    "\n",
    "| Tool             | Description                             |\n",
    "|------------------|-----------------------------------------|\n",
    "| Anaconda         | Data science platform and package manager|\n",
    "| Jupyter Notebooks| Interactive computing and data analysis |\n",
    "| R Studio         | Integrated development environment (IDE) for R |\n",
    "| Spyder           | Open-source IDE for Python               |\n",
    "| Zeppelin         | Web-based notebook for data analytics   |\n",
    "\n"
   ]
  },
  {
   "cell_type": "markdown",
   "id": "706715d0-fef0-41b7-9159-4836b2c870fe",
   "metadata": {},
   "source": [
    "## Examples of evaluating arithmetic operations in python"
   ]
  },
  {
   "cell_type": "markdown",
   "id": "47bd3e5d-fcf3-4271-8eb3-b4deb913eae1",
   "metadata": {},
   "source": [
    "### Code cell for multiplying and adding numbers"
   ]
  },
  {
   "cell_type": "code",
   "execution_count": 7,
   "id": "d4e16ebb-1beb-4bd6-b21b-715301f500d2",
   "metadata": {
    "tags": []
   },
   "outputs": [
    {
     "data": {
      "text/plain": [
       "(15, 8)"
      ]
     },
     "execution_count": 7,
     "metadata": {},
     "output_type": "execute_result"
    }
   ],
   "source": [
    "# Code cell for multiplying and adding numbers\n",
    "a = 5\n",
    "b = 3\n",
    "multiply_result = a * b\n",
    "add_result = a + b\n",
    "multiply_result, add_result"
   ]
  },
  {
   "cell_type": "markdown",
   "id": "2c9f33ff-c18a-4d9b-b611-34f78b6f93cc",
   "metadata": {},
   "source": [
    "### Code cell to convert minutes to hours"
   ]
  },
  {
   "cell_type": "code",
   "execution_count": 8,
   "id": "bdf63a41-7e8a-4af4-ba03-7adf7168bf6a",
   "metadata": {
    "tags": []
   },
   "outputs": [
    {
     "data": {
      "text/plain": [
       "2.0"
      ]
     },
     "execution_count": 8,
     "metadata": {},
     "output_type": "execute_result"
    }
   ],
   "source": [
    "# Code cell to convert minutes to hours\n",
    "minutes = 120\n",
    "hours = minutes / 60\n",
    "hours"
   ]
  },
  {
   "cell_type": "markdown",
   "id": "f573f2ac-b06e-41a8-9e4e-3d0018e8e0cb",
   "metadata": {
    "tags": []
   },
   "source": [
    "## Objectives:\n",
    "- Add comments to code cells\n",
    "- Create markdown cells\n",
    "- Add ordered and unordered lists to markdown cells\n",
    "- Format content of markdown cells with heading styles"
   ]
  },
  {
   "cell_type": "markdown",
   "id": "8b4ac421-db77-4592-8a55-2928ac833eb5",
   "metadata": {},
   "source": [
    "# Author: Aryan Juyal\n"
   ]
  }
 ],
 "metadata": {
  "kernelspec": {
   "display_name": "Python",
   "language": "python",
   "name": "conda-env-python-py"
  },
  "language_info": {
   "codemirror_mode": {
    "name": "ipython",
    "version": 3
   },
   "file_extension": ".py",
   "mimetype": "text/x-python",
   "name": "python",
   "nbconvert_exporter": "python",
   "pygments_lexer": "ipython3",
   "version": "3.7.12"
  }
 },
 "nbformat": 4,
 "nbformat_minor": 5
}
